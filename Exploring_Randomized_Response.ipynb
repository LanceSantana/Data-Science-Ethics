{
  "nbformat": 4,
  "nbformat_minor": 0,
  "metadata": {
    "colab": {
      "provenance": []
    },
    "kernelspec": {
      "name": "python3",
      "display_name": "Python 3"
    },
    "language_info": {
      "name": "python"
    }
  },
  "cells": [
    {
      "cell_type": "markdown",
      "source": [
        "#Exploring Randomized Response: Privacy, Epsilon, and Differential Privacy in Survey Data\n",
        "\n",
        "In class, we discussed an example of randomized response. We introduced a 'coin-flipping' method for introducing noise to responses of the question \"Have you ever cheated on an exam?\" To answer this question, respondents would use the following procedure:\n",
        "\n",
        "1. Flip a coin **C1**\n",
        "  1. if C1 is heads, then **respond truthfully**\n",
        "  2. if C1 is tails, then flip another coin **C2**\n",
        "    1. if C2 is heads then respond **No**\n",
        "    2. if C2 is tails then respond **Yes**\n",
        "\n",
        "This algorithm is an example of localized random response (i.e., noise is added when the data is collected).\n",
        "\n",
        "In this notebook, you will work through this 'coin-flipping' method. Then you will modify our randomized response algorithm to see how this affects privacy guarantees.\n"
      ],
      "metadata": {
        "id": "0Iwlpn2CKKzx"
      }
    },
    {
      "cell_type": "markdown",
      "source": [
        "## Setup\n",
        "\n",
        "Import necessary packages."
      ],
      "metadata": {
        "id": "ixDs7KndmnMP"
      }
    },
    {
      "cell_type": "code",
      "execution_count": null,
      "metadata": {
        "id": "BYlnmXCPJ6nj"
      },
      "outputs": [],
      "source": [
        "import random\n",
        "import numpy as np\n",
        "import matplotlib.pyplot as plt"
      ]
    },
    {
      "cell_type": "markdown",
      "source": [
        "## Randomized response algorithm 1\n",
        "\n",
        "<img src=\"https://drive.google.com/uc?export=view&id=1NEP2dOjcIImisdEaGgRDg08lSlXtDYj1\" width=\"700\">\n",
        "\n",
        "Below we define a function for our 'coin-flipping' randomized response algorithm. This algorithm is depicted by the figure above. We set `truth='Yes'` as our default argument but it would also work with `Truth='No'`. Read through the code to make sure you understand how it works.\n",
        "\n"
      ],
      "metadata": {
        "id": "KJ8ZNsDXM-p2"
      }
    },
    {
      "cell_type": "code",
      "source": [
        "import random\n",
        "\n",
        "def randomized_algorithm1(truth='Yes'):\n",
        "\n",
        "  C1 = random.choice(['Heads', 'Tails'])\n",
        "\n",
        "  if (C1 == 'Heads'):\n",
        "    response = truth\n",
        "  else:\n",
        "    C2 = random.choice(['Heads', 'Tails'])\n",
        "    if (C2 == 'Tails'):\n",
        "      response = 'Yes'\n",
        "    else:\n",
        "      response = 'No'\n",
        "\n",
        "  return response"
      ],
      "metadata": {
        "id": "e1uwKLQbKIMh"
      },
      "execution_count": null,
      "outputs": []
    },
    {
      "cell_type": "markdown",
      "source": [
        "Try running the algorithm (below) a few times. Double-check that you sometimes get \"Yes\" and sometimes get \"No\" responses.\n"
      ],
      "metadata": {
        "id": "nITnRcKYoYYX"
      }
    },
    {
      "cell_type": "code",
      "source": [
        "randomized_algorithm1()"
      ],
      "metadata": {
        "id": "DuaIDClLOowM",
        "outputId": "a539cc03-f891-48e4-9bf5-63b45dbe030b",
        "colab": {
          "base_uri": "https://localhost:8080/",
          "height": 35
        }
      },
      "execution_count": null,
      "outputs": [
        {
          "output_type": "execute_result",
          "data": {
            "text/plain": [
              "'Yes'"
            ],
            "application/vnd.google.colaboratory.intrinsic+json": {
              "type": "string"
            }
          },
          "metadata": {},
          "execution_count": 32
        }
      ]
    },
    {
      "cell_type": "markdown",
      "source": [
        "### Calculating epsilon, the privacy parameter\n",
        "\n",
        "The randomized algorithm defined above provides a certain degree of privacy which we call epsilon. Below we will cover how to calculate epsilon."
      ],
      "metadata": {
        "id": "_BLuArpbqS5X"
      }
    },
    {
      "cell_type": "markdown",
      "source": [
        "#### Probability of \"Yes\" for a person whose true value is \"Yes\"\n",
        "\n",
        "Let's start by taking the case where a person's true value is \"Yes\", i.e. `truth = 'Yes'`. How could that person end up answering \"Yes\" in the randomized algorithm above?\n",
        "\n",
        "> 1. They could flip C1 and get heads, in which case they would answer with the truth, i.e. \"Yes.\" Or;\n",
        "> 2. They could flip C1 and get tails; then flip C2 and get tails again, in which case they would answer \"Yes.\"\n",
        "\n",
        "Calculate the probability of a person answering \"Yes\" given that the truth is \"Yes\":"
      ],
      "metadata": {
        "id": "d9W6UyhIPZe-"
      }
    },
    {
      "cell_type": "code",
      "source": [
        "P_C1_heads = 0.5\n",
        "P_C1_tails = 0.5\n",
        "P_C2_tails = 0.5\n",
        "\n",
        "P_yes_given_yes = P_C1_heads + (P_C1_tails * P_C2_tails)\n",
        "print(P_yes_given_yes)"
      ],
      "metadata": {
        "id": "bAMBcVGQQfg6",
        "outputId": "1f0fa5f2-9195-4f53-f3cf-699f2bb0fdc3",
        "colab": {
          "base_uri": "https://localhost:8080/"
        }
      },
      "execution_count": null,
      "outputs": [
        {
          "output_type": "stream",
          "name": "stdout",
          "text": [
            "0.75\n"
          ]
        }
      ]
    },
    {
      "cell_type": "markdown",
      "source": [
        "#### Probability of \"Yes\" for a person whose true value is \"No\"\n",
        "\n",
        "Now let's take the case where a person's true value is \"No,\" i.e. `truth = 'No'`. How could that person end up answering 'Yes' based on the 'coin-flipping' randomized algorithm?\n",
        "\n",
        "1. They could flip C1 and it returns tails; then flip C2 and get tails again, in which case they would answer \"Yes.\"\n",
        "\n",
        "Calculate the probability of a person answering \"Yes\" given that the truth is \"No\":"
      ],
      "metadata": {
        "id": "h5Wbzv8hR4FF"
      }
    },
    {
      "cell_type": "code",
      "source": [
        "P_yes_given_no = P_C1_tails * P_C2_tails\n",
        "print(P_yes_given_no)"
      ],
      "metadata": {
        "id": "VUD2daKzSFBL",
        "outputId": "0d446df3-144b-4266-f3b9-ab73c7a73269",
        "colab": {
          "base_uri": "https://localhost:8080/"
        }
      },
      "execution_count": null,
      "outputs": [
        {
          "output_type": "stream",
          "name": "stdout",
          "text": [
            "0.25\n"
          ]
        }
      ]
    },
    {
      "cell_type": "markdown",
      "source": [
        "#### Calculate epsilon for the first algorithm\n",
        "\n",
        "Epsilon is calculated by taking the probability that a person answered \"Yes\" because the truth for that person was \"Yes\" and dividing it by the probability that a person answered \"Yes\" even though the truth was \"No.\"\n",
        "\n",
        "This captures the idea of **plausible deniability** which is foundational to differential privacy. A person could have answered \"Yes\" because they truthfully did cheat on an exam or they could have answered \"Yes\" because they flipped a certain coin combination. We can't know which route led the person to answering \"Yes\" by looking only at their response."
      ],
      "metadata": {
        "id": "F6XUYzyWSrc7"
      }
    },
    {
      "cell_type": "code",
      "source": [
        "epsilon = np.log(P_yes_given_yes / P_yes_given_no)\n",
        "print(\"epsilon:\", epsilon)"
      ],
      "metadata": {
        "id": "thlBZqUgS3BC",
        "outputId": "effd0529-b329-473f-9f40-50b697e9811e",
        "colab": {
          "base_uri": "https://localhost:8080/"
        }
      },
      "execution_count": null,
      "outputs": [
        {
          "output_type": "stream",
          "name": "stdout",
          "text": [
            "epsilon: 1.0986122886681098\n"
          ]
        }
      ]
    },
    {
      "cell_type": "markdown",
      "source": [
        "Note that we take the natural log."
      ],
      "metadata": {
        "id": "osnyFedstPTz"
      }
    },
    {
      "cell_type": "markdown",
      "source": [
        "## Randomized response algorithm 2\n",
        "\n",
        "<img src=\"https://drive.google.com/uc?export=view&id=1ELyGARwJnXtVtj9jLub11rJj6N_ejjnC\" width=\"700\">\n",
        "\n",
        "Let's modify the 'coin-flipping' algorithm by introducing a third coin, **C3**. We'll define a new algorithm called `randomized_algorithm2` based on the above figure. Spend some time reviewing the below function so that you understand it."
      ],
      "metadata": {
        "id": "lhrFyO-9UfYK"
      }
    },
    {
      "cell_type": "code",
      "source": [
        "def randomized_algorithm2(truth='Yes'):\n",
        "\n",
        "  C1 = random.choice(['Heads', 'Tails'])\n",
        "\n",
        "  if (C1 == 'Heads'):\n",
        "    response = truth\n",
        "  else:\n",
        "    C2 = random.choice(['Heads', 'Tails'])\n",
        "    if (C2 == 'Heads'):\n",
        "      response = 'No'\n",
        "    else:\n",
        "      C3 = random.choice(['Heads', 'Tails'])\n",
        "      if (C3 == 'Heads'):\n",
        "        response = 'No'\n",
        "      else:\n",
        "        response = 'Yes'\n",
        "\n",
        "  return response"
      ],
      "metadata": {
        "id": "8hj4hg9tUh-l"
      },
      "execution_count": null,
      "outputs": []
    },
    {
      "cell_type": "markdown",
      "source": [
        "Try running the new algorithm (below) a few times. Double-check that you sometimes get \"Yes\" and sometimes get \"No\" responses."
      ],
      "metadata": {
        "id": "rufNNsOHtxl3"
      }
    },
    {
      "cell_type": "code",
      "source": [
        "randomized_algorithm2()"
      ],
      "metadata": {
        "id": "jM9blfOUt1EV",
        "outputId": "9239f4f2-a60d-4405-abd3-6d59bbc34aa5",
        "colab": {
          "base_uri": "https://localhost:8080/",
          "height": 35
        }
      },
      "execution_count": null,
      "outputs": [
        {
          "output_type": "execute_result",
          "data": {
            "text/plain": [
              "'No'"
            ],
            "application/vnd.google.colaboratory.intrinsic+json": {
              "type": "string"
            }
          },
          "metadata": {},
          "execution_count": 41
        }
      ]
    },
    {
      "cell_type": "markdown",
      "source": [
        "### Calculate epsilon for algorithm 2\n",
        "\n",
        "Think through the ways that a person whose true value is \"Yes\" could respond with \"Yes\" in the second algorithm. These are:\n",
        "\n",
        "> 1. They could flip C1 and get heads in which case they would answer with the truth, i.e. \"Yes.\" Or;\n",
        "> 2. They could flip C1 and get tails; then flip C2 and get tails; then flip C3 and get tails for a third time in a row, in which case they would answer \"Yes.\"\n",
        "\n",
        "Again, calculate the probability of a person answering \"Yes\" given that the truth is \"Yes\":"
      ],
      "metadata": {
        "id": "MxLciJY0o9Xn"
      }
    },
    {
      "cell_type": "code",
      "source": [
        "P_C3_tails = 0.5\n",
        "\n",
        "P_yes_given_yes2 = P_C1_heads + (P_C1_tails * P_C2_tails * P_C3_tails)\n",
        "print(P_yes_given_yes2)"
      ],
      "metadata": {
        "id": "2wdXNp5zU9Hw",
        "outputId": "294fa6dc-2954-49a7-aad3-9c0982fe0aff",
        "colab": {
          "base_uri": "https://localhost:8080/"
        }
      },
      "execution_count": null,
      "outputs": [
        {
          "output_type": "stream",
          "name": "stdout",
          "text": [
            "0.625\n"
          ]
        }
      ]
    },
    {
      "cell_type": "markdown",
      "source": [
        "The probability of a person answering \"Yes\" given that the truth is \"No\" is also different in our second algorithm. The route to this answer is:\n",
        "\n",
        "> 1. C1 tails; followed by C2 tails, followed by C3 tails\n",
        "\n"
      ],
      "metadata": {
        "id": "SrXmkbQXupBI"
      }
    },
    {
      "cell_type": "code",
      "source": [
        "P_yes_given_no2 = P_C1_tails * P_C2_tails * P_C3_tails\n",
        "print(P_yes_given_no2)"
      ],
      "metadata": {
        "id": "pTVpDGz5WIJh",
        "outputId": "ce424e25-6a91-45e0-c229-cd50d98744f0",
        "colab": {
          "base_uri": "https://localhost:8080/"
        }
      },
      "execution_count": null,
      "outputs": [
        {
          "output_type": "stream",
          "name": "stdout",
          "text": [
            "0.125\n"
          ]
        }
      ]
    },
    {
      "cell_type": "markdown",
      "source": [
        "And now we can calculate epsilon for our second algorithm:"
      ],
      "metadata": {
        "id": "EN-26F_KurlV"
      }
    },
    {
      "cell_type": "code",
      "source": [
        "epsilon2 = np.log(P_yes_given_yes2 / P_yes_given_no2)\n",
        "print(\"epsilon:\", epsilon2)"
      ],
      "metadata": {
        "id": "MjMtgVNFWiqz",
        "outputId": "b01e700b-5316-414e-fb69-c0b4ad7eff17",
        "colab": {
          "base_uri": "https://localhost:8080/"
        }
      },
      "execution_count": null,
      "outputs": [
        {
          "output_type": "stream",
          "name": "stdout",
          "text": [
            "epsilon: 1.6094379124341003\n"
          ]
        }
      ]
    },
    {
      "cell_type": "markdown",
      "source": [
        "Recall that epsilon represents the strength of privacy from the algorithm, where a **lower value indicates stronger privacy**. Why is `epsilon2` for the second algorithm higher than `epsilon` from the first algorithm?"
      ],
      "metadata": {
        "id": "D677wq7JXGfV"
      }
    },
    {
      "cell_type": "markdown",
      "source": [
        "**Write your answer here and include your reasoning:**"
      ],
      "metadata": {
        "id": "YKSbFXqluCq2"
      }
    },
    {
      "cell_type": "markdown",
      "source": [
        "## Randomized response algorithm 3\n",
        "\n",
        "<img src=\"https://drive.google.com/uc?export=view&id=1OFjubxvcx3s73NzoIMMD4tsrfCzIi6AM\" width=\"700\">\n",
        "\n",
        "In the third and final randomized response algorithm, keep three coins but change the algorithm according to the figure above. Note that in the third algorithm, we will flip a coin after C1 no matter what. We'll either flip C2 or C3 depending on C1. That means that every respondent will be guaranteed to flip two coins.\n",
        "\n",
        "The third algorithm is defined as follows:"
      ],
      "metadata": {
        "id": "TOnLOd7UXopl"
      }
    },
    {
      "cell_type": "code",
      "source": [
        "def randomized_algorithm3(truth='Yes'):\n",
        "\n",
        "  C1 = random.choice(['Heads', 'Tails'])\n",
        "\n",
        "  if (C1 == 'Heads'):\n",
        "    C2 = random.choice(['Heads', 'Tails'])\n",
        "    if (C2 == 'Tails'):\n",
        "      response = 'Yes'\n",
        "    else:\n",
        "      response = 'No'\n",
        "  else:\n",
        "    C3 = random.choice(['Heads', 'Tails'])\n",
        "    if (C3 == 'Tails'):\n",
        "      response = truth\n",
        "    else:\n",
        "      response = 'No'\n",
        "\n",
        "  return response"
      ],
      "metadata": {
        "id": "JKKI_ITOXtXQ"
      },
      "execution_count": null,
      "outputs": []
    },
    {
      "cell_type": "markdown",
      "source": [
        "Again, check that it works as anticipated:"
      ],
      "metadata": {
        "id": "blSXbK1Dv9WD"
      }
    },
    {
      "cell_type": "code",
      "source": [
        "randomized_algorithm3()"
      ],
      "metadata": {
        "id": "z1hnrS_DcD4I",
        "outputId": "85b9e2d7-1eab-42a8-c505-26c81c966ab9",
        "colab": {
          "base_uri": "https://localhost:8080/",
          "height": 35
        }
      },
      "execution_count": null,
      "outputs": [
        {
          "output_type": "execute_result",
          "data": {
            "text/plain": [
              "'No'"
            ],
            "application/vnd.google.colaboratory.intrinsic+json": {
              "type": "string"
            }
          },
          "metadata": {},
          "execution_count": 13
        }
      ]
    },
    {
      "cell_type": "markdown",
      "source": [
        "### Calculate epsilon for algorithm 3\n",
        "\n",
        "Repeat the exercise from our first and second algorithm. What is the probability that a person will respond \"Yes\" given that the truth for that person is \"Yes\"?"
      ],
      "metadata": {
        "id": "V04bsJxGpB1G"
      }
    },
    {
      "cell_type": "markdown",
      "source": [
        "**Write down the route(s) here:**"
      ],
      "metadata": {
        "id": "PUqCJWDVwPlj"
      }
    },
    {
      "cell_type": "markdown",
      "source": [
        "Calculate the probability of `yes_given_yes` (i.e. the probability that a person responds yes and the truth is yes):"
      ],
      "metadata": {
        "id": "65_X50e3wT3H"
      }
    },
    {
      "cell_type": "code",
      "source": [
        "P_C1_heads = 0.5\n",
        "P_C2_tails = 0.5\n",
        "\n",
        "P_yes_given_yes3 = (P_C1_heads * P_C2_tails) + (P_C1_tails * P_C3_tails)\n",
        "print(P_yes_given_yes3)"
      ],
      "metadata": {
        "id": "6-StIq_CYELC",
        "colab": {
          "base_uri": "https://localhost:8080/"
        },
        "outputId": "8e9423ee-f086-44a2-f1b7-00d311e9a764"
      },
      "execution_count": null,
      "outputs": [
        {
          "output_type": "stream",
          "name": "stdout",
          "text": [
            "0.5\n"
          ]
        }
      ]
    },
    {
      "cell_type": "markdown",
      "source": [
        "What is the probability that a person will respond \"Yes\" given that the truth for that person is \"No\"?"
      ],
      "metadata": {
        "id": "Ie-XNDthzoaL"
      }
    },
    {
      "cell_type": "markdown",
      "source": [
        "Calculate the probability of `yes_given_no` (i.e. the probability that a person responds yes even though the truth is no):"
      ],
      "metadata": {
        "id": "DTELyCtdwudX"
      }
    },
    {
      "cell_type": "code",
      "source": [
        "P_C1_heads = 0.5\n",
        "P_C2_tails = 0.5\n",
        "\n",
        "yes_given_no3 = (P_C1_heads * P_C2_tails)\n",
        "print(yes_given_no3)"
      ],
      "metadata": {
        "id": "IQkWad58Y2a5",
        "colab": {
          "base_uri": "https://localhost:8080/"
        },
        "outputId": "a8a3456c-27c8-4b28-8ac1-6192ddb2eb4a"
      },
      "execution_count": null,
      "outputs": [
        {
          "output_type": "stream",
          "name": "stdout",
          "text": [
            "0.25\n"
          ]
        }
      ]
    },
    {
      "cell_type": "markdown",
      "source": [
        "Calculate epsilon by using the values `yes_given_yes` and `yes_given_no`:"
      ],
      "metadata": {
        "id": "ZRgEqD3EwcK-"
      }
    },
    {
      "cell_type": "code",
      "source": [
        "epsilon3 = np.log(P_yes_given_yes3 / yes_given_no3)\n",
        "print(\"epsilon:\", epsilon3)"
      ],
      "metadata": {
        "id": "V3fS56WgZTpb",
        "colab": {
          "base_uri": "https://localhost:8080/"
        },
        "outputId": "c608708c-8cf9-4124-f41e-fedcf1c6fceb"
      },
      "execution_count": null,
      "outputs": [
        {
          "output_type": "stream",
          "name": "stdout",
          "text": [
            "epsilon: 0.6931471805599453\n"
          ]
        }
      ]
    },
    {
      "cell_type": "markdown",
      "source": [
        "What do you observe about epsilon for the third algorithm?"
      ],
      "metadata": {
        "id": "rZHU_2miwiSf"
      }
    },
    {
      "cell_type": "markdown",
      "source": [
        "**Write your answer here:**\n",
        "The epsilon for algorithm 3 is lower than number 1 and 2 at .693. This means that algorithm 3 was able to offer stronger privacy making it harder to guess the correct response. Overall algorithm 3 introduced more randomness compared to the other to algorithms offering the most privacy but less accurate results."
      ],
      "metadata": {
        "id": "KWu6-9qowkZq"
      }
    },
    {
      "cell_type": "markdown",
      "source": [
        "## Example with data\n",
        "\n",
        "In the first randomized algorithm (called `randomized_algorithm1`), we can estimate the proportion of responses for whom we expect the truth to be \"Yes\" by the formula:\n",
        "\n",
        "> $\\hat{p} = 2y - 0.5$\n",
        "\n",
        "where $\\hat{p}$ is the estimated proportion of respondents for whom Truth = Yes and $y$ is the proportion of respondents who say \"Yes\".\n",
        "\n",
        "Suppose 100 students are asked to respond to our question \"Have you ever cheated on an exam?\". Also suppose that the truth is \"Yes\" for 30 of those students and \"No\" for the other 70. If we ask each student to respond via our first randomized algorithm, we would estimate the proportion of true \"Yes\" responses from our 100 students to be:"
      ],
      "metadata": {
        "id": "p_wLn8BzPId5"
      }
    },
    {
      "cell_type": "code",
      "source": [
        "results = [randomized_algorithm1(truth=P) for P in ['Yes']*30 + ['No']*70]\n",
        "\n",
        "(2 *(results.count('Yes') / 100) - 0.5)"
      ],
      "metadata": {
        "id": "HrnuhRAZPIF7",
        "outputId": "bcc85ee7-a83f-4c2d-ea19-709875cc20d1",
        "colab": {
          "base_uri": "https://localhost:8080/"
        }
      },
      "execution_count": null,
      "outputs": [
        {
          "output_type": "execute_result",
          "data": {
            "text/plain": [
              "0.36"
            ]
          },
          "metadata": {},
          "execution_count": 73
        }
      ]
    },
    {
      "cell_type": "markdown",
      "source": [
        "## Simulate the proportion of 'Yes' responses\n",
        "\n",
        "The above is just a one-shot example. The estimate, $\\hat{p}$, will vary each time we run the above cell because there's randomization involved.\n",
        "\n",
        "Let's simulate the distribution of estimates for a population of 100 students responding using the randomization algorithm over and over again. We'll simulate the randomized response 10,000 times and estimate the proportion of \"Yes\" responses each time."
      ],
      "metadata": {
        "id": "LpkPUA9ZhK15"
      }
    },
    {
      "cell_type": "code",
      "source": [
        "output = []*10000\n",
        "for x in range(0, 10000):\n",
        "  results = [randomized_algorithm1(truth=P) for P in ['Yes']*30 + ['No']*70]\n",
        "  output.append(2 * (results.count('Yes') / 100) - 0.5)\n",
        "\n",
        "plt.hist(output, density=True, bins=30)  # density=False would make counts\n",
        "plt.ylabel('Proportion of Simulations')\n",
        "plt.xlabel('Estimated Proportion, $\\hat{p}$ of \"Yes\" Responses');\n"
      ],
      "metadata": {
        "id": "9ghpJ1HIh8vK",
        "outputId": "52c29743-a1ca-4451-c159-854bc43b9a41",
        "colab": {
          "base_uri": "https://localhost:8080/",
          "height": 456
        }
      },
      "execution_count": null,
      "outputs": [
        {
          "output_type": "display_data",
          "data": {
            "text/plain": [
              "<Figure size 640x480 with 1 Axes>"
            ],
            "image/png": "[encoded data removed]"
          },
          "metadata": {}
        }
      ]
    },
    {
      "cell_type": "markdown",
      "source": [
        "What do you observe from this distribution?"
      ],
      "metadata": {
        "id": "a7uxZ502llhV"
      }
    },
    {
      "cell_type": "markdown",
      "source": [
        "**Write your answer here:**\n",
        "Over 10000 iterations, the distribution has developed a bell-shaped curve with the center to be around .3 or 30% of responses. There is a sharp peak around .25-.45, making up a significant proportion of simulations, indicating that a number around this area is the true percent that cheated. These results are representative of the true frequency however, the noise introduced has made the results somewhat reliable but not a perfect representation."
      ],
      "metadata": {
        "id": "q83KSQaJlrqI"
      }
    },
    {
      "cell_type": "markdown",
      "source": [
        "## Create your own randomized response algorithm\n",
        "\n",
        "Come up with your own randomized response algorithm, write a function for it, calculate epsilon, and see how it works in practice. You can use the above examples as a template."
      ],
      "metadata": {
        "id": "sXtaBFlFn2kS"
      }
    },
    {
      "cell_type": "markdown",
      "source": [
        "**Describe your randomized response algorithm here:**"
      ],
      "metadata": {
        "id": "X5IT3MxioLel"
      }
    },
    {
      "cell_type": "code",
      "source": [
        "def randomized_algorithm4(truth='Yes'):\n",
        "\n",
        "  C1 = random.choice(['Heads', 'Tails'])\n",
        "\n",
        "  if (C1 == 'Heads'):\n",
        "    C2 = random.choice(['Heads', 'Tails'])\n",
        "    if (C2 == 'Tails'):\n",
        "      response = 'Yes'\n",
        "    else:\n",
        "      response = 'No'\n",
        "  else:\n",
        "    C3 = random.choice(['Heads', 'Tails'])\n",
        "    if (C3 == 'Tails'):\n",
        "      response = truth\n",
        "    else:\n",
        "      C4 = random.choice(['Heads', 'Tails'])\n",
        "      if (C4 == 'Tails'):\n",
        "        response = truth\n",
        "      else:\n",
        "        response = 'No'\n",
        "\n",
        "  return response"
      ],
      "metadata": {
        "id": "Id3GfakQoKMU"
      },
      "execution_count": null,
      "outputs": []
    },
    {
      "cell_type": "markdown",
      "source": [
        "Try running your algorithm a few times to make sure you get both \"Yes\" and \"No\" responses."
      ],
      "metadata": {
        "id": "qHbZtkanqv0c"
      }
    },
    {
      "cell_type": "code",
      "source": [
        "randomized_algorithm4()"
      ],
      "metadata": {
        "id": "WuoxvkhMqhMe",
        "colab": {
          "base_uri": "https://localhost:8080/",
          "height": 35
        },
        "outputId": "e2ef6a12-723e-4215-ba60-57fa07aad363"
      },
      "execution_count": null,
      "outputs": [
        {
          "output_type": "execute_result",
          "data": {
            "text/plain": [
              "'No'"
            ],
            "application/vnd.google.colaboratory.intrinsic+json": {
              "type": "string"
            }
          },
          "metadata": {},
          "execution_count": 114
        }
      ]
    },
    {
      "cell_type": "markdown",
      "source": [
        "### Calculate epsilon for your algorithm\n",
        "\n",
        "What are that routes to a person responding \"Yes\" given that the truth for that person is \"Yes\"?"
      ],
      "metadata": {
        "id": "l1SMxcgLohge"
      }
    },
    {
      "cell_type": "markdown",
      "source": [
        "**Write the route(s) here:**"
      ],
      "metadata": {
        "id": "a0X-30UEpA6v"
      }
    },
    {
      "cell_type": "markdown",
      "source": [
        "What is the probability that a person will respond \"Yes\" given that the truth for that person is \"Yes\"?"
      ],
      "metadata": {
        "id": "VtviYokKpcsQ"
      }
    },
    {
      "cell_type": "code",
      "source": [
        "P_C1_heads = 0.5\n",
        "P_C2_tails = 0.5\n",
        "P_C3_tails = 0.5\n",
        "P_C3_heads = 0.5\n",
        "P_C4_tails = 0.5\n",
        "\n",
        "P_yes_given_yes4 = (P_C1_heads * P_C2_tails) + (P_C1_tails * P_C3_tails) + (P_C1_tails * P_C3_heads * P_C4_tails)\n",
        "print(P_yes_given_yes4)"
      ],
      "metadata": {
        "id": "YyvQC0VBpexg",
        "colab": {
          "base_uri": "https://localhost:8080/"
        },
        "outputId": "c0a8765d-31b7-4008-bf8a-a565e9f8fe19"
      },
      "execution_count": null,
      "outputs": [
        {
          "output_type": "stream",
          "name": "stdout",
          "text": [
            "0.625\n"
          ]
        }
      ]
    },
    {
      "cell_type": "markdown",
      "source": [
        "What are the route(s) to a \"Yes\" given the truth is \"No\"?"
      ],
      "metadata": {
        "id": "VfHIxOtOsIbc"
      }
    },
    {
      "cell_type": "markdown",
      "source": [
        "**Write the route(s) here:**"
      ],
      "metadata": {
        "id": "OAdx1ZIGtCQ5"
      }
    },
    {
      "cell_type": "markdown",
      "source": [
        "What is the probability that a person will respond \"Yes\" given that the truth for that person is \"No\"?"
      ],
      "metadata": {
        "id": "uHNLbKDhqHLj"
      }
    },
    {
      "cell_type": "code",
      "source": [
        "P_C1_heads = 0.5\n",
        "P_C2_tails = 0.5\n",
        "\n",
        "yes_given_no4 = (P_C1_heads * P_C2_tails)\n",
        "print(yes_given_no4)"
      ],
      "metadata": {
        "id": "fqUVgHIFtHCC",
        "colab": {
          "base_uri": "https://localhost:8080/"
        },
        "outputId": "3dfd320b-7fdc-4d14-bab5-c10060f767a7"
      },
      "execution_count": null,
      "outputs": [
        {
          "output_type": "stream",
          "name": "stdout",
          "text": [
            "0.25\n"
          ]
        }
      ]
    },
    {
      "cell_type": "markdown",
      "source": [
        "Now calculate epsilon for your algorithm."
      ],
      "metadata": {
        "id": "JB-zIeoktS-1"
      }
    },
    {
      "cell_type": "code",
      "source": [
        "epsilon4 = np.log(P_yes_given_yes4 / yes_given_no4)\n",
        "print(\"epsilon:\", epsilon4)"
      ],
      "metadata": {
        "id": "-CYl29FCtXPj",
        "colab": {
          "base_uri": "https://localhost:8080/"
        },
        "outputId": "58d31193-9dab-4b7f-88c6-c096b1bccd45"
      },
      "execution_count": null,
      "outputs": [
        {
          "output_type": "stream",
          "name": "stdout",
          "text": [
            "epsilon: 0.9162907318741551\n"
          ]
        }
      ]
    },
    {
      "cell_type": "markdown",
      "source": [
        "### Comparing algorithms\n",
        "\n",
        "Compare the four algorithms (your algorithm + algorithm 1, 2, and 3 from this assignmnet) by ranking them from most private to least private. Which algorithm provides the most privacy? What does this mean in terms of the accuracy of the estimate, $\\hat{p}$ when using each of the algorithms?"
      ],
      "metadata": {
        "id": "kAhiEqoltliP"
      }
    },
    {
      "cell_type": "markdown",
      "source": [
        "**Write your answer here:**\n",
        "As a lower epsilon means greater privacy the algorithms would rank 2, 1, 4, 3 in order of weakest to strongest privacy. In terms of the accuracy, it would be the inverse order with 3 being the least accurate and 2 being the most accurate due to the inverse relationship between accuracy and privacy. Overall, 2 is the most accurate, 3 is the most private and 1 / 4 are balanced in the middle."
      ],
      "metadata": {
        "id": "NHk2c6SLuTmo"
      }
    }
  ]
}