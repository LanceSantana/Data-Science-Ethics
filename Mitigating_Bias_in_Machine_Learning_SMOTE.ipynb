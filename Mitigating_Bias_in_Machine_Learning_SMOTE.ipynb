{
  "nbformat": 4,
  "nbformat_minor": 0,
  "metadata": {
    "colab": {
      "provenance": []
    },
    "kernelspec": {
      "name": "python3",
      "display_name": "Python 3"
    },
    "language_info": {
      "name": "python"
    }
  },
  "cells": [
    {
      "cell_type": "markdown",
      "source": [
        "#Mitigating Bias in Machine Learning: SMOTE\n",
        "\n",
        "STUDENT NAME(S): Lance Santana, Cole Hammes\n",
        "\n",
        "# Instructions\n",
        "\n",
        "The goal of this mini-assignment is to give you a chance to get more familiar with fairness metrics and to detect bias in datasets or ML algorithms and apply simple approaches to mitigitate this bias.\n",
        "\n",
        "You can work on this mini-assignment in pairs. You will turn in a complete notebook to Gradescope by the deadline. Be sure that you are utilizing dicussion time to work on the assignment and be sure to 'demo' what you have completed by the end of your discussion session. You can continue to work on the mini-assignment and turn it by the due date.\n",
        "\n",
        "\n",
        "# Biases and Machine Learning\n",
        "\n",
        "An ML model makes predictions of an outcome for a particular instance. The model makes these preductions based on a training dataset where its attempting to find patterns in the datast to predict a label for a new unseen instance.\n",
        "\n",
        "For example, lets suppose we are working with a loan application dataset. The dataset has a target binary variable (1 - applicant is likely to repay the loan and 0 - applicant is likely not to repay the loan). The ML model will use the provided features to determine patterns that are closely related to this target variable. However, sometimes the patterns that are found may not be desirable or may even be illegal. For example, a loan repay model may determine that age plays a significat role in the prediction of repayment because the training happends to have better repayment for one age group than for another.\n",
        "\n",
        "This raises two problems: 1 - the training dataset may not be representative of the true population of people of all age groups, 2 - even if it is representative, it is illegal to base any decision on an applicant's age."
      ],
      "metadata": {
        "id": "rEovHtUoTG6K"
      }
    },
    {
      "cell_type": "markdown",
      "source": [
        "# Task\n",
        "\n",
        "1. Step 1 - Import the dataset and split into training and test (80/20). In this dataset, we will focus on evaluating fairness with respect to age. Assume that 'age >= 25' is considered 'privileged' and 'age < 25' is considered 'unpriviledged'.  You can also drop the feature 'Personal status and sex' because its a protected attribute too.\n",
        "\n",
        "2. Step 2 - Next, train an ML model (lets say DecisionTree) on the original dataset and compute fairness metric and highlight the results for the privileged and unpriviledged groups. Include results, graphs and a discussion.\n",
        "\n",
        "3. Step 3 - We will now try to mitigate bias by transforming the original dataset. The previous step likley showed that the privileged group was getting more positive outcomes in the training dataset. Since this is not desirable, we are going to try to mitigate this bias in the training dataset so that our model is not susceptible to this bias. This is called pre-processing mitigation and one approach we can take is to reweight the items in the dataset by oversampling or undersampling. Take a look at SMOTE (https://imbalanced-learn.org/stable/references/generated/imblearn.over_sampling.SMOTE.html).\n",
        "\n",
        "4. Step 4 - Compute fairness metric on transformed dataset.  Now that we have transformed the dataset, we can check how effective it was in removing bias by using the same metric we computed in step 2.\n"
      ],
      "metadata": {
        "id": "Y7rPea86Yr9y"
      }
    },
    {
      "cell_type": "code",
      "source": [
        "!pip install ucimlrepo\n",
        "!pip install imbalanced-learn"
      ],
      "metadata": {
        "colab": {
          "base_uri": "https://localhost:8080/"
        },
        "id": "HEVtoB9Ae9cG",
        "outputId": "3d657cbd-57cd-4f31-9fae-bce45debddd3"
      },
      "execution_count": null,
      "outputs": [
        {
          "output_type": "stream",
          "name": "stdout",
          "text": [
            "Collecting ucimlrepo\n",
            "  Downloading ucimlrepo-0.0.7-py3-none-any.whl.metadata (5.5 kB)\n",
            "Requirement already satisfied: pandas>=1.0.0 in /usr/local/lib/python3.11/dist-packages (from ucimlrepo) (2.2.2)\n",
            "Requirement already satisfied: certifi>=2020.12.5 in /usr/local/lib/python3.11/dist-packages (from ucimlrepo) (2024.12.14)\n",
            "Requirement already satisfied: numpy>=1.23.2 in /usr/local/lib/python3.11/dist-packages (from pandas>=1.0.0->ucimlrepo) (1.26.4)\n",
            "Requirement already satisfied: python-dateutil>=2.8.2 in /usr/local/lib/python3.11/dist-packages (from pandas>=1.0.0->ucimlrepo) (2.8.2)\n",
            "Requirement already satisfied: pytz>=2020.1 in /usr/local/lib/python3.11/dist-packages (from pandas>=1.0.0->ucimlrepo) (2024.2)\n",
            "Requirement already satisfied: tzdata>=2022.7 in /usr/local/lib/python3.11/dist-packages (from pandas>=1.0.0->ucimlrepo) (2025.1)\n",
            "Requirement already satisfied: six>=1.5 in /usr/local/lib/python3.11/dist-packages (from python-dateutil>=2.8.2->pandas>=1.0.0->ucimlrepo) (1.17.0)\n",
            "Downloading ucimlrepo-0.0.7-py3-none-any.whl (8.0 kB)\n",
            "Installing collected packages: ucimlrepo\n",
            "Successfully installed ucimlrepo-0.0.7\n",
            "Requirement already satisfied: imbalanced-learn in /usr/local/lib/python3.11/dist-packages (0.13.0)\n",
            "Requirement already satisfied: numpy<3,>=1.24.3 in /usr/local/lib/python3.11/dist-packages (from imbalanced-learn) (1.26.4)\n",
            "Requirement already satisfied: scipy<2,>=1.10.1 in /usr/local/lib/python3.11/dist-packages (from imbalanced-learn) (1.13.1)\n",
            "Requirement already satisfied: scikit-learn<2,>=1.3.2 in /usr/local/lib/python3.11/dist-packages (from imbalanced-learn) (1.6.1)\n",
            "Requirement already satisfied: sklearn-compat<1,>=0.1 in /usr/local/lib/python3.11/dist-packages (from imbalanced-learn) (0.1.3)\n",
            "Requirement already satisfied: joblib<2,>=1.1.1 in /usr/local/lib/python3.11/dist-packages (from imbalanced-learn) (1.4.2)\n",
            "Requirement already satisfied: threadpoolctl<4,>=2.0.0 in /usr/local/lib/python3.11/dist-packages (from imbalanced-learn) (3.5.0)\n"
          ]
        }
      ]
    },
    {
      "cell_type": "code",
      "source": [
        "from ucimlrepo import fetch_ucirepo\n",
        "\n",
        "# fetch dataset\n",
        "statlog_german_credit_data = fetch_ucirepo(id=144)\n",
        "\n",
        "# data (as pandas dataframes)\n",
        "X = statlog_german_credit_data.data.features\n",
        "y = statlog_german_credit_data.data.targets\n",
        "\n",
        "# metadata\n",
        "print(statlog_german_credit_data.metadata)\n",
        "\n",
        "# variable information\n",
        "print(statlog_german_credit_data.variables)"
      ],
      "metadata": {
        "colab": {
          "base_uri": "https://localhost:8080/"
        },
        "id": "EbVL-Nb0gdiV",
        "outputId": "46e510c9-c9c1-4de1-f4a8-c20636bb3460"
      },
      "execution_count": null,
      "outputs": [
        {
          "output_type": "stream",
          "name": "stdout",
          "text": [
            "{'uci_id': 144, 'name': 'Statlog (German Credit Data)', 'repository_url': 'https://archive.ics.uci.edu/dataset/144/statlog+german+credit+data', 'data_url': 'https://archive.ics.uci.edu/static/public/144/data.csv', 'abstract': 'This dataset classifies people described by a set of attributes as good or bad credit risks. Comes in two formats (one all numeric). Also comes with a cost matrix', 'area': 'Social Science', 'tasks': ['Classification'], 'characteristics': ['Multivariate'], 'num_instances': 1000, 'num_features': 20, 'feature_types': ['Categorical', 'Integer'], 'demographics': ['Other', 'Marital Status', 'Age', 'Occupation'], 'target_col': ['class'], 'index_col': None, 'has_missing_values': 'no', 'missing_values_symbol': None, 'year_of_dataset_creation': 1994, 'last_updated': 'Thu Aug 10 2023', 'dataset_doi': '10.24432/C5NC77', 'creators': ['Hans Hofmann'], 'intro_paper': None, 'additional_info': {'summary': 'Two datasets are provided.  the original dataset, in the form provided by Prof. Hofmann, contains categorical/symbolic attributes and is in the file \"german.data\".   \\r\\n \\r\\nFor algorithms that need numerical attributes, Strathclyde University produced the file \"german.data-numeric\".  This file has been edited and several indicator variables added to make it suitable for algorithms which cannot cope with categorical variables.   Several attributes that are ordered categorical (such as attribute 17) have been coded as integer.    This was the form used by StatLog.\\r\\n\\r\\nThis dataset requires use of a cost matrix (see below)\\r\\n\\r\\n ..... 1        2\\r\\n----------------------------\\r\\n  1   0        1\\r\\n-----------------------\\r\\n  2   5        0\\r\\n\\r\\n(1 = Good,  2 = Bad)\\r\\n\\r\\nThe rows represent the actual classification and the columns the predicted classification.\\r\\n\\r\\nIt is worse to class a customer as good when they are bad (5), than it is to class a customer as bad when they are good (1).\\r\\n', 'purpose': None, 'funded_by': None, 'instances_represent': None, 'recommended_data_splits': None, 'sensitive_data': None, 'preprocessing_description': None, 'variable_info': 'Attribute 1:  (qualitative)      \\r\\n Status of existing checking account\\r\\n             A11 :      ... <    0 DM\\r\\n\\t       A12 : 0 <= ... <  200 DM\\r\\n\\t       A13 :      ... >= 200 DM / salary assignments for at least 1 year\\r\\n               A14 : no checking account\\r\\n\\r\\nAttribute 2:  (numerical)\\r\\n\\t      Duration in month\\r\\n\\r\\nAttribute 3:  (qualitative)\\r\\n\\t      Credit history\\r\\n\\t      A30 : no credits taken/ all credits paid back duly\\r\\n              A31 : all credits at this bank paid back duly\\r\\n\\t      A32 : existing credits paid back duly till now\\r\\n              A33 : delay in paying off in the past\\r\\n\\t      A34 : critical account/  other credits existing (not at this bank)\\r\\n\\r\\nAttribute 4:  (qualitative)\\r\\n\\t      Purpose\\r\\n\\t      A40 : car (new)\\r\\n\\t      A41 : car (used)\\r\\n\\t      A42 : furniture/equipment\\r\\n\\t      A43 : radio/television\\r\\n\\t      A44 : domestic appliances\\r\\n\\t      A45 : repairs\\r\\n\\t      A46 : education\\r\\n\\t      A47 : (vacation - does not exist?)\\r\\n\\t      A48 : retraining\\r\\n\\t      A49 : business\\r\\n\\t      A410 : others\\r\\n\\r\\nAttribute 5:  (numerical)\\r\\n\\t      Credit amount\\r\\n\\r\\nAttibute 6:  (qualitative)\\r\\n\\t      Savings account/bonds\\r\\n\\t      A61 :          ... <  100 DM\\r\\n\\t      A62 :   100 <= ... <  500 DM\\r\\n\\t      A63 :   500 <= ... < 1000 DM\\r\\n\\t      A64 :          .. >= 1000 DM\\r\\n              A65 :   unknown/ no savings account\\r\\n\\r\\nAttribute 7:  (qualitative)\\r\\n\\t      Present employment since\\r\\n\\t      A71 : unemployed\\r\\n\\t      A72 :       ... < 1 year\\r\\n\\t      A73 : 1  <= ... < 4 years  \\r\\n\\t      A74 : 4  <= ... < 7 years\\r\\n\\t      A75 :       .. >= 7 years\\r\\n\\r\\nAttribute 8:  (numerical)\\r\\n\\t      Installment rate in percentage of disposable income\\r\\n\\r\\nAttribute 9:  (qualitative)\\r\\n\\t      Personal status and sex\\r\\n\\t      A91 : male   : divorced/separated\\r\\n\\t      A92 : female : divorced/separated/married\\r\\n              A93 : male   : single\\r\\n\\t      A94 : male   : married/widowed\\r\\n\\t      A95 : female : single\\r\\n\\r\\nAttribute 10: (qualitative)\\r\\n\\t      Other debtors / guarantors\\r\\n\\t      A101 : none\\r\\n\\t      A102 : co-applicant\\r\\n\\t      A103 : guarantor\\r\\n\\r\\nAttribute 11: (numerical)\\r\\n\\t      Present residence since\\r\\n\\r\\nAttribute 12: (qualitative)\\r\\n\\t      Property\\r\\n\\t      A121 : real estate\\r\\n\\t      A122 : if not A121 : building society savings agreement/ life insurance\\r\\n              A123 : if not A121/A122 : car or other, not in attribute 6\\r\\n\\t      A124 : unknown / no property\\r\\n\\r\\nAttribute 13: (numerical)\\r\\n\\t      Age in years\\r\\n\\r\\nAttribute 14: (qualitative)\\r\\n\\t      Other installment plans \\r\\n\\t      A141 : bank\\r\\n\\t      A142 : stores\\r\\n\\t      A143 : none\\r\\n\\r\\nAttribute 15: (qualitative)\\r\\n\\t      Housing\\r\\n\\t      A151 : rent\\r\\n\\t      A152 : own\\r\\n\\t      A153 : for free\\r\\n\\r\\nAttribute 16: (numerical)\\r\\n              Number of existing credits at this bank\\r\\n\\r\\nAttribute 17: (qualitative)\\r\\n\\t      Job\\r\\n\\t      A171 : unemployed/ unskilled  - non-resident\\r\\n\\t      A172 : unskilled - resident\\r\\n\\t      A173 : skilled employee / official\\r\\n\\t      A174 : management/ self-employed/\\r\\n\\t\\t     highly qualified employee/ officer\\r\\n\\r\\nAttribute 18: (numerical)\\r\\n\\t      Number of people being liable to provide maintenance for\\r\\n\\r\\nAttribute 19: (qualitative)\\r\\n\\t      Telephone\\r\\n\\t      A191 : none\\r\\n\\t      A192 : yes, registered under the customers name\\r\\n\\r\\nAttribute 20: (qualitative)\\r\\n\\t      foreign worker\\r\\n\\t      A201 : yes\\r\\n\\t      A202 : no\\r\\n', 'citation': None}}\n",
            "           name     role         type     demographic  \\\n",
            "0    Attribute1  Feature  Categorical            None   \n",
            "1    Attribute2  Feature      Integer            None   \n",
            "2    Attribute3  Feature  Categorical            None   \n",
            "3    Attribute4  Feature  Categorical            None   \n",
            "4    Attribute5  Feature      Integer            None   \n",
            "5    Attribute6  Feature  Categorical            None   \n",
            "6    Attribute7  Feature  Categorical           Other   \n",
            "7    Attribute8  Feature      Integer            None   \n",
            "8    Attribute9  Feature  Categorical  Marital Status   \n",
            "9   Attribute10  Feature  Categorical            None   \n",
            "10  Attribute11  Feature      Integer            None   \n",
            "11  Attribute12  Feature  Categorical            None   \n",
            "12  Attribute13  Feature      Integer             Age   \n",
            "13  Attribute14  Feature  Categorical            None   \n",
            "14  Attribute15  Feature  Categorical           Other   \n",
            "15  Attribute16  Feature      Integer            None   \n",
            "16  Attribute17  Feature  Categorical      Occupation   \n",
            "17  Attribute18  Feature      Integer            None   \n",
            "18  Attribute19  Feature       Binary            None   \n",
            "19  Attribute20  Feature       Binary           Other   \n",
            "20        class   Target       Binary            None   \n",
            "\n",
            "                                          description   units missing_values  \n",
            "0                 Status of existing checking account    None             no  \n",
            "1                                            Duration  months             no  \n",
            "2                                      Credit history    None             no  \n",
            "3                                             Purpose    None             no  \n",
            "4                                       Credit amount    None             no  \n",
            "5                               Savings account/bonds    None             no  \n",
            "6                            Present employment since    None             no  \n",
            "7   Installment rate in percentage of disposable i...    None             no  \n",
            "8                             Personal status and sex    None             no  \n",
            "9                          Other debtors / guarantors    None             no  \n",
            "10                            Present residence since    None             no  \n",
            "11                                           Property    None             no  \n",
            "12                                                Age   years             no  \n",
            "13                            Other installment plans    None             no  \n",
            "14                                            Housing    None             no  \n",
            "15            Number of existing credits at this bank    None             no  \n",
            "16                                                Job    None             no  \n",
            "17  Number of people being liable to provide maint...    None             no  \n",
            "18                                          Telephone    None             no  \n",
            "19                                     foreign worker    None             no  \n",
            "20                                  1 = Good, 2 = Bad    None             no  \n"
          ]
        }
      ]
    },
    {
      "cell_type": "code",
      "source": [
        "import pandas as pd\n",
        "from sklearn.model_selection import train_test_split\n",
        "from sklearn.metrics import confusion_matrix, ConfusionMatrixDisplay\n",
        "from sklearn.tree import DecisionTreeClassifier\n",
        "from sklearn.linear_model import LogisticRegression\n",
        "import matplotlib.pyplot as plt\n",
        "\n",
        "\n",
        "#Drop protected attribute Personal status and sex\n",
        "try:\n",
        "  X = X.drop(columns=[\"Attribute9\"])\n",
        "except KeyError:\n",
        "  print(\"Already Deleted\")\n",
        "\n",
        "#Convert categorical attributes\n",
        "categorical_col = X.select_dtypes(include=['object']).columns\n",
        "X = pd.get_dummies(X, columns = categorical_col, drop_first = True)\n",
        "X[\"Is Privileged\"] = (X[\"Attribute13\"] >= 25).astype(int)\n",
        "\n",
        "\n",
        "# Step 1\n",
        "# Split the data into training and testing sets\n",
        "X_train, X_test, y_train, y_test = train_test_split(X, y, test_size=0.2, random_state=42)\n",
        "X_test = X_test.reset_index(drop = True)\n",
        "y_test = y_test.reset_index(drop = True)\n",
        "\n",
        "# Step 2\n",
        "# Train a classifier (replace DecisionTreeClassifier with your desired classifier)\n",
        "clf = LogisticRegression(max_iter = 1000)\n",
        "clf.fit(X_train, y_train)\n",
        "\n",
        "# Predict on the test set\n",
        "y_pred = clf.predict(X_test)\n",
        "\n",
        "# Generate the confusion matrix\n",
        "cm = confusion_matrix(y_test, y_pred)\n",
        "\n",
        "# Display the confusion matrix for all the data\n",
        "disp = ConfusionMatrixDisplay(confusion_matrix=cm)\n",
        "disp.plot()\n",
        "plt.show()\n",
        "\n",
        "# Show the confusion matrix for privilaged and unprivilaged groups\n",
        "privileged_test = X_test[X_test[\"Is Privileged\"] == 1]\n",
        "unprivileged_test = X_test[X_test[\"Is Privileged\"] == 0]\n",
        "\n",
        "privileged_y_test = y_test.iloc[privileged_test.index]\n",
        "unprivileged_y_test = y_test.iloc[unprivileged_test.index]\n",
        "privileged_y_pred = clf.predict(privileged_test)\n",
        "unprivileged_y_pred = clf.predict(unprivileged_test)\n",
        "privileged_cm = confusion_matrix(privileged_y_test, privileged_y_pred)\n",
        "unprivileged_cm = confusion_matrix(unprivileged_y_test, unprivileged_y_pred)\n",
        "\n",
        "print(\"Matrix over 25\")\n",
        "disp_priv = ConfusionMatrixDisplay(privileged_cm)\n",
        "disp_priv.plot()\n",
        "plt.show()\n",
        "print(\"matrix under 25\")\n",
        "disp_unpriv = ConfusionMatrixDisplay(unprivileged_cm)\n",
        "disp_unpriv.plot()\n",
        "plt.show()\n",
        "\n",
        "# adding up the true positives and negatives to find the accuracy\n",
        "privileged_accuracy = (privileged_cm[0, 0] + privileged_cm[1, 1]) / privileged_cm.sum()\n",
        "unprivileged_accuracy = (unprivileged_cm[0, 0] + unprivileged_cm[1, 1]) / unprivileged_cm.sum()\n",
        "\n",
        "print(f\"Privileged Accuracy: {privileged_accuracy:.2f}\")\n",
        "print(f\"Unprivileged Accuracy: {unprivileged_accuracy:.2f}\")"
      ],
      "metadata": {
        "id": "qt4RKjJZheGj",
        "colab": {
          "base_uri": "https://localhost:8080/",
          "height": 1000
        },
        "outputId": "8c4cffe3-74c0-46a1-8efa-b52552f2e95f"
      },
      "execution_count": null,
      "outputs": [
        {
          "output_type": "stream",
          "name": "stderr",
          "text": [
            "/usr/local/lib/python3.11/dist-packages/sklearn/utils/validation.py:1408: DataConversionWarning: A column-vector y was passed when a 1d array was expected. Please change the shape of y to (n_samples, ), for example using ravel().\n",
            "  y = column_or_1d(y, warn=True)\n",
            "/usr/local/lib/python3.11/dist-packages/sklearn/linear_model/_logistic.py:465: ConvergenceWarning: lbfgs failed to converge (status=1):\n",
            "STOP: TOTAL NO. of ITERATIONS REACHED LIMIT.\n",
            "\n",
            "Increase the number of iterations (max_iter) or scale the data as shown in:\n",
            "    https://scikit-learn.org/stable/modules/preprocessing.html\n",
            "Please also refer to the documentation for alternative solver options:\n",
            "    https://scikit-learn.org/stable/modules/linear_model.html#logistic-regression\n",
            "  n_iter_i = _check_optimize_result(\n"
          ]
        },
        {
          "output_type": "display_data",
          "data": {
            "text/plain": [
              "<Figure size 640x480 with 2 Axes>"
            ],
            "image/png": "[encoded data removed]"
          },
          "metadata": {}
        },
        {
          "output_type": "stream",
          "name": "stdout",
          "text": [
            "Matrix over 25\n"
          ]
        },
        {
          "output_type": "display_data",
          "data": {
            "text/plain": [
              "<Figure size 640x480 with 2 Axes>"
            ],
            "image/png": "[encoded data removed]"
          },
          "metadata": {}
        },
        {
          "output_type": "stream",
          "name": "stdout",
          "text": [
            "matrix under 25\n"
          ]
        },
        {
          "output_type": "display_data",
          "data": {
            "text/plain": [
              "<Figure size 640x480 with 2 Axes>"
            ],
            "image/png": "[encoded data removed]"
          },
          "metadata": {}
        },
        {
          "output_type": "stream",
          "name": "stdout",
          "text": [
            "Privileged Accuracy: 0.77\n",
            "Unprivileged Accuracy: 0.75\n"
          ]
        }
      ]
    },
    {
      "cell_type": "markdown",
      "source": [
        "The output shows that the accuracy for predicting privileged individuals is higher than the accuracy predicting unprivileged people. In situations like those with face recognition technology, it is important that these accuracies are closer so one population isn't being unfairly unrecognized and therefore disadvantaged."
      ],
      "metadata": {
        "id": "y-SixfX_Rdxt"
      }
    },
    {
      "cell_type": "code",
      "source": [
        "from imblearn.over_sampling import SMOTE\n",
        "\n",
        "smote = SMOTE(random_state = 42)\n",
        "\n",
        "X_train_second, y_train_second = smote.fit_resample(X_train, y_train)\n",
        "\n",
        "clf_smote = LogisticRegression(max_iter = 1000)\n",
        "clf_smote.fit(X_train_second, y_train_second)\n",
        "\n",
        "y_pred_smote = clf_smote.predict(X_test)"
      ],
      "metadata": {
        "id": "yN4JU7gBjNgx",
        "colab": {
          "base_uri": "https://localhost:8080/"
        },
        "outputId": "9623ba5e-02b0-4cdd-f8b5-e31fda9c0ceb"
      },
      "execution_count": null,
      "outputs": [
        {
          "output_type": "stream",
          "name": "stderr",
          "text": [
            "/usr/local/lib/python3.11/dist-packages/sklearn/utils/validation.py:1408: DataConversionWarning: A column-vector y was passed when a 1d array was expected. Please change the shape of y to (n_samples, ), for example using ravel().\n",
            "  y = column_or_1d(y, warn=True)\n",
            "/usr/local/lib/python3.11/dist-packages/sklearn/linear_model/_logistic.py:465: ConvergenceWarning: lbfgs failed to converge (status=1):\n",
            "STOP: TOTAL NO. of ITERATIONS REACHED LIMIT.\n",
            "\n",
            "Increase the number of iterations (max_iter) or scale the data as shown in:\n",
            "    https://scikit-learn.org/stable/modules/preprocessing.html\n",
            "Please also refer to the documentation for alternative solver options:\n",
            "    https://scikit-learn.org/stable/modules/linear_model.html#logistic-regression\n",
            "  n_iter_i = _check_optimize_result(\n"
          ]
        }
      ]
    },
    {
      "cell_type": "code",
      "source": [
        "privileged_y_pred_SMOTE = clf_smote.predict(privileged_test)\n",
        "unprivileged_y_pred_SMOTE = clf_smote.predict(unprivileged_test)\n",
        "\n",
        "privileged_cm_SMOTE = confusion_matrix(privileged_y_test, privileged_y_pred_SMOTE)\n",
        "unprivileged_cm_SMOTE = confusion_matrix(unprivileged_y_test, unprivileged_y_pred_SMOTE)\n",
        "\n",
        "privileged_accuracy_SMOTE = (privileged_cm_SMOTE[0, 0] + privileged_cm_SMOTE[1, 1]) / privileged_cm_SMOTE.sum()\n",
        "unprivileged_accuracy_SMOTE = (unprivileged_cm_SMOTE[0, 0] + unprivileged_cm_SMOTE[1, 1]) / unprivileged_cm_SMOTE.sum()\n",
        "\n",
        "print(f\"Privileged Accuracy with SMOTE: {privileged_accuracy_SMOTE:.2f}\")\n",
        "print(f\"Unprivileged Accuracy with SMOTE: {unprivileged_accuracy_SMOTE:.2f}\")"
      ],
      "metadata": {
        "id": "iaX47TxHjOVa",
        "colab": {
          "base_uri": "https://localhost:8080/"
        },
        "outputId": "003e04ee-1996-4487-aa92-6b6b397e51c7"
      },
      "execution_count": null,
      "outputs": [
        {
          "output_type": "stream",
          "name": "stdout",
          "text": [
            "Privileged Accuracy with SMOTE: 0.77\n",
            "Unprivileged Accuracy with SMOTE: 0.78\n"
          ]
        }
      ]
    },
    {
      "cell_type": "markdown",
      "source": [
        "The results of the SMOTE have resulted in an increase in accuracy for unprivileged to .78. This means that SMOTE was successful in reducing the overall discrepancy between population identification accuracy."
      ],
      "metadata": {
        "id": "Ng3LPMp-T5y9"
      }
    },
    {
      "cell_type": "markdown",
      "source": [
        "# References / Disclosures\n",
        "\n",
        "Used ChatGPT as a teaching and instructional tool."
      ],
      "metadata": {
        "id": "o-8NLvIOsPL-"
      }
    }
  ]
}